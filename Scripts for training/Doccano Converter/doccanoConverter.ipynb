{
  "cells": [
    {
      "cell_type": "code",
      "execution_count": null,
      "metadata": {
        "id": "w0V658m4o8pb"
      },
      "outputs": [],
      "source": [
        "import json\n",
        "import sys\n",
        "#This script merge doccano output file and raw dataset\n",
        "#Start and ending index\n",
        "QSTART = 615\n",
        "QLEN = 486"
      ]
    },
    {
      "cell_type": "code",
      "execution_count": null,
      "metadata": {
        "id": "ShDqvHlcpDr2"
      },
      "outputs": [],
      "source": [
        "# saves dictionary as json file\n",
        "def save_as_json(file_name, data):\n",
        "    with open(file_name, \"w\") as formatted:\n",
        "        json.dump(data, formatted)\n",
        "        \n",
        "# convert question texts to dictionaries\n",
        "def question_texts_to_dict(questions, paragraph, id_):\n",
        "    splitted = questions.split(\"\\n\")\n",
        "    empty = True\n",
        "    splitted_questions = []\n",
        "    for i in range(int(len(splitted) / 2)):\n",
        "        question = splitted[i*2]\n",
        "        data = question.split(\": \")  # Careful here. Did you have space after question names?\n",
        "        # data = question.split(\":\")\n",
        "        \n",
        "        if data[1] != '':\n",
        "            splitted_questions.append(data[1].strip())\n",
        "            empty = False\n",
        "            \n",
        "    question_dict = {}\n",
        "    question_dict[\"questions\"] = splitted_questions\n",
        "    #print(paragraph[0])\n",
        "    question_dict[\"text\"] = paragraph\n",
        "    question_dict[\"id\"] = id_\n",
        "    return question_dict\n",
        "\n",
        "# read files under questions directory\n",
        "def read_questions_dir(path, file_count):\n",
        "    questions_dict = []\n",
        "    id_ = 1\n",
        "    #print(file_count)\n",
        "    for i in range(QSTART, QSTART+QLEN + 1):\n",
        "        try:\n",
        "            f1 = open(path + str(i) + \".txt\", \"r\", encoding=\"utf-8\")\n",
        "            f2 = open(path + str(i) + \"_soru.txt\", \"r\", encoding=\"utf-8\")\n",
        "        except:\n",
        "            print(\"Dosya \" + str(i) + \".txt açılamıyor\")\n",
        "            continue\n",
        "        paragraph = f1.read()\n",
        "        questions = f2.read()\n",
        "        paragraph = paragraph.replace(\"\\n\", '')\n",
        "\n",
        "        if paragraph[0] == ' ':\n",
        "            paragraph = paragraph[1:]\n",
        "            \n",
        "        #print(paragraph[0])\n",
        "        try:\n",
        "            dictionary = question_texts_to_dict(questions, paragraph, id_)\n",
        "        except:\n",
        "            print(\"Dosya \" + str(i) + \" sorunlu\")\n",
        "#             print(questions)\n",
        "#             print(paragraph)\n",
        "            print(sys.exc_info()[0])\n",
        "            return\n",
        "        questions_dict.append(dictionary)\n",
        "        id_ += 1\n",
        "        f1.close()\n",
        "        f2.close()\n",
        "\n",
        "    return questions_dict"
      ]
    },
    {
      "cell_type": "code",
      "execution_count": null,
      "metadata": {
        "id": "4ihw3h1BpFWV"
      },
      "outputs": [],
      "source": [
        "import os.path\n",
        "path = \"dataset/\"\n",
        "count = os.listdir(path)\n",
        "print(len(count))\n",
        "fileCount =(int) (len(count)/2)\n",
        "questions = read_questions_dir(path, fileCount)\n",
        "save_as_json(\"questionsV2.json\", questions)\n",
        "\n",
        "print(\"Paragraf sayısı:\", len(questions))"
      ]
    },
    {
      "cell_type": "code",
      "execution_count": null,
      "metadata": {
        "id": "TOZzpC93pG_F"
      },
      "outputs": [],
      "source": [
        "# reads formatted answers file\n",
        "def read_json(file_name):\n",
        "    with open(file_name, \"r\", encoding=\"utf-8\") as json_file:\n",
        "        data = json.load(json_file)\n",
        "    return data\n",
        "\n",
        "# clears unnecessary whitespaces before and after answers\n",
        "def clear_the_answers(answers):\n",
        "    for j in range(len(answers[\"data\"])):\n",
        "        answer = answers[\"data\"][j]\n",
        "        for i in range(len(answer[\"label\"])):\n",
        "            full_answer = answer[\"data\"][answer[\"label\"][i][0]:answer[\"label\"][i][1]]\n",
        "            k = 0\n",
        "            while (full_answer[k] == ' ' and k < len(answer)):\n",
        "                answer[\"label\"][i][0] += 1\n",
        "                k += 1\n",
        "                \n",
        "            k = len(full_answer) - 1    \n",
        "            while (full_answer[k] == ' ' and k >= 0):\n",
        "                answer[\"label\"][i][1] -= 1\n",
        "                k -= 1\n",
        "\n",
        "# reads raw doccano output file and save as json.\n",
        "def read_doccano_file(file_path):\n",
        "    with open(file_path, \"r\", encoding=\"utf-8\") as json_file:\n",
        "        answers = json_file.read()\n",
        "        \n",
        "    text_answers =  answers.split(\"\\n\")\n",
        "    answer_dict = []\n",
        "    for answer in text_answers[:-1]:\n",
        "        dictionary = json.loads(answer)\n",
        "        answer_dict.append(dictionary)\n",
        "        \n",
        "    data = {\"data\": answer_dict}\n",
        "    clear_the_answers(data)\n",
        "    new_filename = file_path.split(\".\")[0] + \"_formatted.json\"\n",
        "    \n",
        "    save_as_json(new_filename, data)\n",
        "    return data"
      ]
    },
    {
      "cell_type": "code",
      "execution_count": null,
      "metadata": {
        "id": "K8ofLyhmpINl"
      },
      "outputs": [],
      "source": [
        "file_path = \"admin.jsonl\"\n",
        "\n",
        "answers = read_doccano_file(file_path)"
      ]
    },
    {
      "cell_type": "code",
      "execution_count": null,
      "metadata": {
        "id": "HiU0QfBGpJSU"
      },
      "outputs": [],
      "source": [
        "file_path = \"admin_formatted.json\"\n",
        "\n",
        "answers = read_json(file_path)"
      ]
    },
    {
      "cell_type": "code",
      "execution_count": null,
      "metadata": {
        "id": "A2qDJ5YapMGd"
      },
      "outputs": [],
      "source": [
        "# Counts matched questions and answers based on texts.\n",
        "def matched_questions_and_answers(questions, answers):\n",
        "    eslesti = 0\n",
        "    for j in range(len(questions)):\n",
        "        found = False\n",
        "        i = 0\n",
        "        while(i < len(answers[\"data\"]) and not found):\n",
        "            print(answers[\"data\"][i]['data'],\"\\n\",questions[j][\"text\"],\"\\n\",\"\\n\")\n",
        "            if answers[\"data\"][i]['data'] == questions[j][\"text\"]:\n",
        "                eslesti += 1\n",
        "                found = True\n",
        "            i += 1\n",
        "        if not found:\n",
        "            print(\"Questions \" + str(j) + \" eşleşemedi\")\n",
        "\n",
        "    print(\"Matched files: \", eslesti)\n",
        "\n",
        "# creates q&a dictionary.\n",
        "def create_q_a_dictionary(answer, question, id_):\n",
        "    qas_list = []\n",
        "    q_id = 0\n",
        "    \n",
        "    for i in range(len(question[\"questions\"])):\n",
        "        answer_name = \"cevap\" + str(i + 1)\n",
        "        k = 0\n",
        "        while (k < len(answer['label']) and answer['label'][k][2] != answer_name):\n",
        "            k += 1\n",
        "        try:\n",
        "            start = answer['label'][k][0] \n",
        "            end = answer['label'][k][1]\n",
        "        except:\n",
        "            print(answer, k, answer_name, question)\n",
        "            print(sys.exc_info()[0])\n",
        "            return\n",
        "            \n",
        "\n",
        "        q_dict = {\n",
        "            \"id\": q_id,\n",
        "            \"question\": question[\"questions\"][i],\n",
        "            \"answer\": answer['data'][start:end],\n",
        "            \"answer_start\": start,\n",
        "            \"answer_end\": end\n",
        "        }\n",
        "\n",
        "        qas_list.append(q_dict)\n",
        "        q_id += 1\n",
        "\n",
        "    if qas_list:\n",
        "        dictionary = {\n",
        "            \"id\": id_,\n",
        "            \"text\": answer['data'],\n",
        "            \"qas\": qas_list\n",
        "        }\n",
        "        return dictionary\n",
        "    else:\n",
        "        return None\n",
        "\n",
        "# merges q&a dictionaries.    \n",
        "def merge_questions_and_answers(questions, answers):\n",
        "    dataset = []\n",
        "    id_ = 0\n",
        "    for j in range(len(questions)):\n",
        "        found = False\n",
        "        i = 0\n",
        "        while(i < len(answers[\"data\"]) and not found):\n",
        "            if answers[\"data\"][i]['data'] == questions[j][\"text\"]:\n",
        "                found = True\n",
        "            else:\n",
        "                i += 1\n",
        "        if found:   \n",
        "            answer = answers[\"data\"][i]\n",
        "            question = questions[j]\n",
        "            dictionary = create_q_a_dictionary(answer, question, id_)\n",
        "            if dictionary != None:\n",
        "                id_ += 1\n",
        "                dataset.append(dictionary)  \n",
        "                \n",
        "    final_dataset = {\"data\": dataset}\n",
        "    return final_dataset"
      ]
    },
    {
      "cell_type": "code",
      "execution_count": null,
      "metadata": {
        "id": "0oqkeybwIet-",
        "colab": {
          "base_uri": "https://localhost:8080/"
        },
        "outputId": "1695a6af-895e-48a2-f29d-6f25f969b1e6"
      },
      "outputs": [
        {
          "output_type": "execute_result",
          "data": {
            "text/plain": [
              "['Erkan Meriç kimdir?',\n",
              " 'Erkan Meriç ne zaman doğmuştur?',\n",
              " 'Erkan Meriç ilköğretim ve lise eğitimini nerede tamamlamıştır?',\n",
              " 'Erkan Meriç hangi bölümden mezun olmuştur?',\n",
              " 'Erkan Meriç Best Model of Turkey 2009 yarışmasında kaçıncı oldu?',\n",
              " 'Erkan Meriç Best Model of the World yarışmasında ne ünvanı almıştır?']"
            ]
          },
          "metadata": {},
          "execution_count": 33
        }
      ],
      "source": [
        "questions[0][\"questions\"]"
      ]
    },
    {
      "cell_type": "code",
      "execution_count": null,
      "metadata": {
        "id": "waOYZhelEmYD",
        "colab": {
          "base_uri": "https://localhost:8080/"
        },
        "outputId": "97a70297-d84c-489b-c0d6-7f160777f202"
      },
      "outputs": [
        {
          "output_type": "stream",
          "name": "stdout",
          "text": [
            "Özel Kuvvetler Komutanlığı, Türk Silahlı Kuvvetlerinin değişik sınıf ve rütbelerdeki subay, astsubay ve uzman erbaşlardan oluşan, iç ve dış tehditlerin bertaraf edilmesine karşı her türlü arazi ve iklim şartlarında görev yapabilecek nitelikte üst düzey eğitime tabi tutularak yetiştirilmiş seçkin askerlerden oluşan birlik. Doğrudan Genelkurmay Başkanlığına bağlı olarak tugay seviyesinde 1992 yılında kurulmuştur. Türk Silahlı Kuvvetleri kıyafet yönetmeliğine göre bordo renkte bere kullanırlar. İlk olarak 27 Eylül 1952 yılında \"Hususi ve Yardımcı Muharip Birlikleri\" adıyla Amerika Birleşik Devletleri Ordusu Özel Harekât Kuvvetleri ortak eğitimleri ile kurulmuş, 7 Kasım 1953 yılında \"Seferberlik Tetkik Kurulu\" adını almıştır. 14 Aralık 1970 yılında ise \"Özel Harp Dairesi\" adını almıştır. 14 Nisan 1992 yılında Körfez Savaşı'ndan sonra dış tehlikelerin belirmesi ve Irak'ın kuzeyinden tehditler gelmesi nedeniyle 1992 yılında yerleşkesi ve yapısı değiştirilerek kurulmuştur. İlk olarak tugay seviyesinde daha sonra tümen, ardından 2006 Yüksek Askerî Şûra kararı ile Kolordu, 2010 Yüksek Askerî Şûra kararı ile tekrar Tümen ve 2015 Yüksek Askerî Şûra kararı ile tekrar Kolordu yapıldı. Burada görev yapan askerler uzun süre verilen eğitimin sonucunda özel olarak seçilmiştir. 2004 yılında Almanya'da yapılan Dünya Özel Kuvvetler Şampiyonasında, yirmi altı özel kuvvet birliği arasında birinci olmuşlardır. Özel Kuvvetler Komutanlığı Karargâhının adı 15 Temmuz darbe girişiminin ardından P. Asb. Kd. Bçvş. Ömer Halisdemir olarak değiştirilmiştir. Komutanlığın asli görevleri olası bir savaş durumunda halkı örgütlemek ve yetiştirmek, diğer askeri birliklerin imkân ve kabiliyetini aşan özel operasyonları gerçekleştirmektir. Milli İstihbarat Teşkilatı'ndan alınan bilgiler doğrultusunda terör örgütlerinin yönetici kadrolarına ve sınır ötesindeki kritik noktalarına karşı özel harekat terminolojisinde doğrudan eylem olarak geçen baskınlar gerçekleştirirler. Savaş şartlarının sürdüğü ülkelerde elçiliklerin korunmasında ve herhangi bir saldırı durumunda bölgenin savunmasında, personelin tahliye edilmesinde o ülkenin dilini bilen ve bölgede tecrübesi olan dış görev timi görevlendirilir. Bordo Bereliler aynı zamanda devlet büyüklerinin yakın koruma görevini de yerine getirirler. Başta Genelkurmay başkanı olmak üzere kuvvet komutanlarının ve yüksek rütbeli generallerin koruma ve güvenlik görevlerini üstlenirler. Dost ve müttefik ülkelerin ordularına eğitim, yardım ve destek faaliyeti yürütürler. Harekât düzenlenecek bölgelere önceden sızarak kritik tesis ve birimlerin işaretlenip etkisiz hâle getirilmesini ve düşman topraklarda keşif ve istihbarat toplayarak dost kuvvetlerin daha rahat hareket etmesine imkân sağlarlar. Ayrıca yüksek riskte düşman topraklarından esir kurtarma operasyonu yürütmekle görevlidirler.\n"
          ]
        }
      ],
      "source": [
        "print(answers[\"data\"][0]['data'])"
      ]
    },
    {
      "cell_type": "code",
      "execution_count": null,
      "metadata": {
        "id": "wKnHIir5pNNk"
      },
      "outputs": [],
      "source": [
        "eslesti = 0\n",
        "for j in range(len(answers[\"data\"])):\n",
        "    found = False\n",
        "    i = 0\n",
        "    while(i < len(questions) and not found):\n",
        "        print(answers[\"data\"][j]['data'][0]+\"\\n\"+questions[i][\"text\"][0])\n",
        "        if answers[\"data\"][j]['data'] == questions[i][\"text\"]:\n",
        "            eslesti += 1\n",
        "            found = True\n",
        "        i += 1\n",
        "    if not found:\n",
        "        print(\"Answers \" + str(j) + \" eşleşemedi\")"
      ]
    },
    {
      "cell_type": "code",
      "execution_count": null,
      "metadata": {
        "id": "CVFRqaf5_vuW",
        "colab": {
          "base_uri": "https://localhost:8080/"
        },
        "outputId": "7da8c987-6ea8-484f-97f3-3c4be0475d55"
      },
      "outputs": [
        {
          "output_type": "stream",
          "name": "stdout",
          "text": [
            "Özel Kuvvetler Komutanlığı, Türk Silahlı Kuvvetlerinin değişik sınıf ve rütbelerdeki subay, astsubay ve uzman erbaşlardan oluşan, iç ve dış tehditlerin bertaraf edilmesine karşı her türlü arazi ve iklim şartlarında görev yapabilecek nitelikte üst düzey eğitime tabi tutularak yetiştirilmiş seçkin askerlerden oluşan birlik. Doğrudan Genelkurmay Başkanlığına bağlı olarak tugay seviyesinde 1992 yılında kurulmuştur. Türk Silahlı Kuvvetleri kıyafet yönetmeliğine göre bordo renkte bere kullanırlar. İlk olarak 27 Eylül 1952 yılında \"Hususi ve Yardımcı Muharip Birlikleri\" adıyla Amerika Birleşik Devletleri Ordusu Özel Harekât Kuvvetleri ortak eğitimleri ile kurulmuş, 7 Kasım 1953 yılında \"Seferberlik Tetkik Kurulu\" adını almıştır. 14 Aralık 1970 yılında ise \"Özel Harp Dairesi\" adını almıştır. 14 Nisan 1992 yılında Körfez Savaşı'ndan sonra dış tehlikelerin belirmesi ve Irak'ın kuzeyinden tehditler gelmesi nedeniyle 1992 yılında yerleşkesi ve yapısı değiştirilerek kurulmuştur. İlk olarak tugay seviyesinde daha sonra tümen, ardından 2006 Yüksek Askerî Şûra kararı ile Kolordu, 2010 Yüksek Askerî Şûra kararı ile tekrar Tümen ve 2015 Yüksek Askerî Şûra kararı ile tekrar Kolordu yapıldı. Burada görev yapan askerler uzun süre verilen eğitimin sonucunda özel olarak seçilmiştir. 2004 yılında Almanya'da yapılan Dünya Özel Kuvvetler Şampiyonasında, yirmi altı özel kuvvet birliği arasında birinci olmuşlardır. Özel Kuvvetler Komutanlığı Karargâhının adı 15 Temmuz darbe girişiminin ardından P. Asb. Kd. Bçvş. Ömer Halisdemir olarak değiştirilmiştir. Komutanlığın asli görevleri olası bir savaş durumunda halkı örgütlemek ve yetiştirmek, diğer askeri birliklerin imkân ve kabiliyetini aşan özel operasyonları gerçekleştirmektir. Milli İstihbarat Teşkilatı'ndan alınan bilgiler doğrultusunda terör örgütlerinin yönetici kadrolarına ve sınır ötesindeki kritik noktalarına karşı özel harekat terminolojisinde doğrudan eylem olarak geçen baskınlar gerçekleştirirler. Savaş şartlarının sürdüğü ülkelerde elçiliklerin korunmasında ve herhangi bir saldırı durumunda bölgenin savunmasında, personelin tahliye edilmesinde o ülkenin dilini bilen ve bölgede tecrübesi olan dış görev timi görevlendirilir. Bordo Bereliler aynı zamanda devlet büyüklerinin yakın koruma görevini de yerine getirirler. Başta Genelkurmay başkanı olmak üzere kuvvet komutanlarının ve yüksek rütbeli generallerin koruma ve güvenlik görevlerini üstlenirler. Dost ve müttefik ülkelerin ordularına eğitim, yardım ve destek faaliyeti yürütürler. Harekât düzenlenecek bölgelere önceden sızarak kritik tesis ve birimlerin işaretlenip etkisiz hâle getirilmesini ve düşman topraklarda keşif ve istihbarat toplayarak dost kuvvetlerin daha rahat hareket etmesine imkân sağlarlar. Ayrıca yüksek riskte düşman topraklarından esir kurtarma operasyonu yürütmekle görevlidirler. \n",
            "Erkan Meriç (d. 26 Temmuz 1986, Adana), Türk model ve oyuncu. 26 Temmuz 1986 tarihinde Adana’da doğan Erkan Meriç, ilköğretim ve lise eğitimini Mersin’de tamamladı. Erkan Meriç, Mersin Üniversitesi Elektronik Otomasyon Bölümü’nden 2008 yılında mezun olmuştur. Erkan Meriç, üniversiteden mezun olduğu dönemlerde ailesinin ve yakın çevresinin yönlendirmesi ile mankenlik ajansına yazıldı. Bir yıl boyunca modellik yaptıktan sonra profesyonel olarak mankenlik yapmaya başlayan Meriç, 2008 yılında düzenlenen Best Model of Turkey yarışmasına katılarak, Best Photo Model seçildi. 2009 yılında Best Model of Turkey 2009 yarışmasına tekrar katıldı ve bu yarışmayı kazanarak, Türkiye birincisi oldu. Best Model of Turkey yarışmasında Türkiye’nin en iyi erkek modeli seçilen Meriç, Türkiye’yi temsil etmek üzere Best Model of the World 2009 yarışmasına katılmaya hak kazandı. Bulgaristan’da gerçekleştirilen Best Model of the World yarışmasında birinci seçilen Meriç, “Dünya’nın en iyi erkek mankeni” unvanını almıştır. Kenan İmirzalıoğlu ve Kıvanç Tatlıtuğ’dan sonra bu unvanı kazanan 3. Türk erkek modeldir.\n"
          ]
        }
      ],
      "source": [
        "print(answers[\"data\"][0]['data'] ,\"\\n\"+ questions[0][\"text\"])\n"
      ]
    },
    {
      "cell_type": "code",
      "execution_count": null,
      "metadata": {
        "id": "rEAZ_5mmpObG"
      },
      "outputs": [],
      "source": [
        "print(\"Questions length: {}, Answers length: {}\".format(len(questions), len(answers[\"data\"])))\n",
        "matched_questions_and_answers(questions, answers)"
      ]
    },
    {
      "cell_type": "code",
      "execution_count": null,
      "metadata": {
        "id": "qc-0PpbbpOV0"
      },
      "outputs": [],
      "source": [
        "dataset = merge_questions_and_answers(questions, answers)\n",
        "print(len(dataset[\"data\"]))"
      ]
    },
    {
      "cell_type": "code",
      "execution_count": null,
      "metadata": {
        "id": "5yjtryDGpQ6l"
      },
      "outputs": [],
      "source": [
        "save_as_json(\"wiki_output.json\", dataset)"
      ]
    }
  ],
  "metadata": {
    "colab": {
      "collapsed_sections": [],
      "name": "doccanoConverter.ipynb",
      "provenance": []
    },
    "kernelspec": {
      "display_name": "Python 3",
      "name": "python3"
    },
    "language_info": {
      "name": "python"
    }
  },
  "nbformat": 4,
  "nbformat_minor": 0
}